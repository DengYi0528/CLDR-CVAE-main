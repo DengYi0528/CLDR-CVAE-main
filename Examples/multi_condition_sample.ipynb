{
 "cells": [
  {
   "cell_type": "code",
   "execution_count": null,
   "metadata": {
    "collapsed": false
   },
   "outputs": [],
   "source": [
    "import sys\n",
    "sys.path.append(\"../\")\n",
    "import anndata\n",
    "import pandas as pd\n",
    "import scanpy as sc\n",
    "import numpy as np\n",
    "from scipy import stats\n",
    "from scipy.sparse import issparse\n",
    "import trvae\n",
    "from trvae import pl\n",
    "from trvae.models._trvae import CLDRCVAE"
   ]
  },
  {
   "cell_type": "markdown",
   "metadata": {},
   "source": [
    "## loading and preparing data "
   ]
  },
  {
   "cell_type": "code",
   "execution_count": null,
   "metadata": {},
   "outputs": [],
   "source": [
    "adata = sc.read(\"../data/haber_count.h5ad\")\n",
    "sc.pp.normalize_per_cell(adata)   \n",
    "sc.pp.log1p(adata)                  \n",
    "sc.pp.highly_variable_genes(adata, n_top_genes=2000)    \n",
    "adata = adata[:, adata.var['highly_variable']]\n",
    "n_conditions = adata.obs[\"condition\"].unique().shape[0]"
   ]
  },
  {
   "cell_type": "code",
   "execution_count": null,
   "metadata": {
    "collapsed": false
   },
   "outputs": [],
   "source": [
    "condition_key = \"condition\"\n",
    "cell_type_key= \"cell_label\""
   ]
  },
  {
   "cell_type": "code",
   "execution_count": null,
   "metadata": {},
   "outputs": [],
   "source": [
    "adata_train = adata[~((adata.obs[\"cell_label\"] == \"Tuft\") & (adata.obs[\"condition\"] == \"Hpoly.Day10\"))]"
   ]
  },
  {
   "cell_type": "code",
   "execution_count": null,
   "metadata": {},
   "outputs": [],
   "source": [
    "sc.pp.neighbors(adata_train)\n",
    "sc.tl.umap(adata_train)"
   ]
  },
  {
   "cell_type": "code",
   "execution_count": null,
   "metadata": {},
   "outputs": [],
   "source": [
    "sc.pl.umap(adata_train, color=[\"condition\", \"cell_label\"], wspace=.4)"
   ]
  },
  {
   "cell_type": "markdown",
   "metadata": {
    "ExecuteTime": {
     "end_time": "2019-12-12T13:12:20.110508Z",
     "start_time": "2019-12-12T13:12:20.103220Z"
    }
   },
   "source": [
    "## creating model object "
   ]
  },
  {
   "cell_type": "code",
   "execution_count": null,
   "metadata": {
    "collapsed": false
   },
   "outputs": [],
   "source": [
    "conditions = adata.obs[condition_key].unique().tolist()\n",
    "conditions"
   ]
  },
  {
   "cell_type": "code",
   "execution_count": null,
   "metadata": {
    "collapsed": false
   },
   "outputs": [],
   "source": [
    "cell_types = adata.obs[cell_type_key].unique().tolist()\n",
    "cell_types"
   ]
  },
  {
   "cell_type": "code",
   "execution_count": null,
   "metadata": {
    "collapsed": false
   },
   "outputs": [],
   "source": [
    "network = CLDRCVAE(\n",
    "    gene_size=adata.shape[1],\n",
    "    architecture=[256, 64],\n",
    "    n_topic=50,\n",
    "    gene_names=adata.var_names.tolist(),\n",
    "    conditions=conditions,\n",
    "    cell_types=cell_types,  \n",
    "    cell_type_key=cell_type_key,\n",
    "    model_path='./models/CLDRCVAE/haber/',\n",
    "    dropout_rate=0.1,\n",
    "    alpha=0.0001,\n",
    "    beta=50,\n",
    "    eta=100,\n",
    "    contrastive_lambda=10.0,\n",
    "    topk=5,\n",
    "    loss_fn='sse', \n",
    "    output_activation='relu'\n",
    ")"
   ]
  },
  {
   "cell_type": "markdown",
   "metadata": {},
   "source": [
    "### Training CLDRCVAE"
   ]
  },
  {
   "cell_type": "code",
   "execution_count": null,
   "metadata": {},
   "outputs": [],
   "source": [
    "network.train(adata,\n",
    "              condition_key,\n",
    "              train_size=0.8,\n",
    "              n_epochs=300,\n",
    "              batch_size=512,\n",
    "              early_stop_limit=50,\n",
    "              lr_reducer=20,\n",
    "              verbose=5,\n",
    "              save=False\n",
    "              )"
   ]
  },
  {
   "cell_type": "markdown",
   "metadata": {},
   "source": [
    "## visualizing the latent space"
   ]
  },
  {
   "cell_type": "code",
   "execution_count": null,
   "metadata": {},
   "outputs": [],
   "source": [
    "latent_y = network.get_latent(\n",
    "    adata=adata, \n",
    "    batch_key=\"condition\",  \n",
    "    return_z=True\n",
    ")\n",
    "\n",
    "adata_latent = sc.AnnData(latent_y)\n",
    "adata_latent.obs[\"cell_label\"] = adata.obs[\"cell_label\"].tolist()\n",
    "adata_latent.obs[condition_key] = adata.obs[condition_key].tolist()\n",
    "\n",
    "sc.pp.neighbors(adata_latent)\n",
    "\n",
    "sc.tl.umap(adata_latent)\n",
    "\n",
    "sc.pl.umap(adata_latent, color=[condition_key, \"cell_label\"])"
   ]
  },
  {
   "cell_type": "markdown",
   "metadata": {
    "collapsed": false
   },
   "source": [
    "## Making prediction"
   ]
  },
  {
   "cell_type": "code",
   "execution_count": null,
   "metadata": {
    "collapsed": false
   },
   "outputs": [],
   "source": [
    "def calc_R2(pred_adata, real_adata, n_trials=1000):\n",
    "    r_values_mean = np.zeros((n_trials,))\n",
    "    r_values_var = np.zeros((n_trials,))\n",
    "    \n",
    "    for i in range(n_trials):\n",
    "        pred_idx = np.random.choice(range(pred_adata.shape[0]), int(0.9 * pred_adata.shape[0]), replace=False)\n",
    "        real_idx = np.random.choice(range(real_adata.shape[0]), int(0.9 * real_adata.shape[0]), replace=False)\n",
    "        \n",
    "        if issparse(pred_adata.X):\n",
    "            pred_adata.X = pred_adata.X.A\n",
    "            real_adata.X = real_adata.X.A\n",
    "\n",
    "        pred_mean = np.mean(pred_adata.X[pred_idx], axis=0)\n",
    "        real_mean = np.mean(real_adata.X[real_idx], axis=0)\n",
    "        pred_var = np.var(pred_adata.X[pred_idx], axis=0)\n",
    "        real_var = np.var(real_adata.X[real_idx], axis=0)\n",
    "\n",
    "        _, _, r_value_mean, _, _ = stats.linregress(pred_mean, real_mean)\n",
    "        _, _, r_value_var, _, _ = stats.linregress(pred_var, real_var)\n",
    "\n",
    "        r_values_mean[i] = r_value_mean ** 2\n",
    "        r_values_var[i] = r_value_var ** 2\n",
    "\n",
    "    return (\n",
    "        r_values_mean.mean(), r_values_mean.std(),\n",
    "        r_values_var.mean(), r_values_var.std()\n",
    "    )"
   ]
  },
  {
   "cell_type": "code",
   "execution_count": null,
   "metadata": {
    "collapsed": false
   },
   "outputs": [],
   "source": [
    "ground_truth = adata[((adata.obs[\"cell_label\"] == \"Tuft\")\n",
    "                      & (adata.obs[\"condition\"].isin([\"Hpoly.Day10\", \"Control\"])))]\n",
    "\n",
    "adata_source = adata[(adata.obs[\"cell_label\"] == \"Tuft\") &\n",
    "                     (adata.obs[\"condition\"] == \"Control\")]\n",
    "\n",
    "predicted_data = network.predict(\n",
    "    adata=adata_source,\n",
    "    condition_key=\"condition\", \n",
    "    target_condition=\"Hpoly.Day10\"\n",
    ")"
   ]
  },
  {
   "cell_type": "code",
   "execution_count": null,
   "metadata": {
    "collapsed": false
   },
   "outputs": [],
   "source": [
    "adata_pred = sc.AnnData(predicted_data_recon)\n",
    "adata_pred.obs[\"condition\"] = np.tile(\"predicted\", len(adata_pred))\n",
    "adata_pred.var_names = adata_source_recon.var_names.tolist()\n",
    "\n",
    "all_adata = ground_truth_recon.concatenate(adata_pred)"
   ]
  },
  {
   "cell_type": "code",
   "execution_count": null,
   "metadata": {
    "collapsed": false
   },
   "outputs": [],
   "source": [
    "sc.tl.pca(all_adata)\n",
    "sc.pl.pca(all_adata, color=[\"condition\"])\n",
    "\n",
    "sc.pl.violin(all_adata, keys=\"Defa24\", groupby=\"condition\")"
   ]
  },
  {
   "cell_type": "code",
   "execution_count": null,
   "metadata": {
    "collapsed": false
   },
   "outputs": [],
   "source": [
    "# 计算 R² 的均值和方差\n",
    "r2_mean, r2_mean_std, r2_var, r2_var_std = calc_R2(adata_pred, ground_truth_recon)\n",
    "\n",
    "# 打印结果\n",
    "print(f\"R² Mean: {r2_mean}, R² Mean Std: {r2_mean_std}\")\n",
    "print(f\"R² Var: {r2_var}, R² Var Std: {r2_var_std}\")"
   ]
  },
  {
   "cell_type": "markdown",
   "metadata": {
    "collapsed": false
   },
   "source": [
    "# Reg Mean & Reg Var plot for Tuft"
   ]
  },
  {
   "cell_type": "code",
   "execution_count": null,
   "metadata": {
    "collapsed": false
   },
   "outputs": [],
   "source": [
    "adata = adata[adata.obs[condition_key].isin(['Control', 'Hpoly.Day10'])]\n",
    "cell_type_adata = adata[adata.obs[cell_type_key] == \"Tuft\"]\n",
    "\n",
    "sc.tl.rank_genes_groups(cell_type_adata, reference='Control', \n",
    "                       groupby=condition_key, groups=[\"Hpoly.Day10\"],\n",
    "                       key_added='up_reg_genes', n_genes=50, method='wilcoxon')\n",
    "\n",
    "sc.tl.rank_genes_groups(cell_type_adata, reference=\"Hpoly.Day10\",\n",
    "                         groupby=condition_key, groups=['Control'],\n",
    "                         key_added='down_reg_genes', n_genes=50, method='wilcoxon')\n",
    "\n",
    "up_genes = cell_type_adata.uns['up_reg_genes']['names']['Hpoly.Day10']\n",
    "down_genes = cell_type_adata.uns['down_reg_genes']['names']['Control']\n",
    "top_genes = up_genes.tolist() + down_genes.tolist()"
   ]
  },
  {
   "cell_type": "code",
   "execution_count": null,
   "metadata": {
    "collapsed": false
   },
   "outputs": [],
   "source": [
    "print(f\"Top genes: {top_genes}\")\n",
    "print(f\"Number of top genes: {len(top_genes)}\")\n",
    "print(all_adata.obs[\"condition\"].unique())"
   ]
  },
  {
   "cell_type": "code",
   "execution_count": null,
   "metadata": {
    "collapsed": false
   },
   "outputs": [],
   "source": [
    "trvae.pl.reg_mean_plot(all_adata,\n",
    "                         top_100_genes=top_genes,\n",
    "                         gene_list=top_genes[:5] + top_genes[50:55],\n",
    "                         condition_key=condition_key,\n",
    "                         axis_keys={'x': 'predicted', 'y': 'Hpoly.Day10'}, \n",
    "                         labels={'x': \"\", 'y': \"\"},\n",
    "                         legend=False,\n",
    "                         show=True,\n",
    "                         x_coeff=1.0,\n",
    "                         y_coeff=0.0)"
   ]
  },
  {
   "cell_type": "code",
   "execution_count": null,
   "metadata": {
    "collapsed": false
   },
   "outputs": [],
   "source": [
    "trvae.pl.reg_var_plot(all_adata,\n",
    "                         top_100_genes=top_genes,\n",
    "                         gene_list=top_genes[:5] + top_genes[50:55],\n",
    "                         condition_key=condition_key,\n",
    "                         axis_keys={'x': 'predicted', 'y': 'Hpoly.Day10'}, \n",
    "                         labels={'x': \"\", 'y': \"\"},\n",
    "                         legend=False,\n",
    "                         show=True,\n",
    "                         x_coeff=1.0,\n",
    "                         y_coeff=0.1)"
   ]
  }
 ],
 "metadata": {
  "kernelspec": {
   "display_name": "trvae-std",
   "language": "python",
   "name": "trvae-std"
  },
  "language_info": {
   "codemirror_mode": {
    "name": "ipython",
    "version": 3
   },
   "file_extension": ".py",
   "mimetype": "text/x-python",
   "name": "python",
   "nbconvert_exporter": "python",
   "pygments_lexer": "ipython3",
   "version": "3.7.2"
  },
  "toc": {
   "base_numbering": 1,
   "nav_menu": {},
   "number_sections": true,
   "sideBar": true,
   "skip_h1_title": false,
   "title_cell": "Table of Contents",
   "title_sidebar": "Contents",
   "toc_cell": false,
   "toc_position": {},
   "toc_section_display": true,
   "toc_window_display": false
  },
  "varInspector": {
   "cols": {
    "lenName": 16,
    "lenType": 16,
    "lenVar": 40
   },
   "kernels_config": {
    "python": {
     "delete_cmd_postfix": "",
     "delete_cmd_prefix": "del ",
     "library": "var_list.py",
     "varRefreshCmd": "print(var_dic_list())"
    },
    "r": {
     "delete_cmd_postfix": ") ",
     "delete_cmd_prefix": "rm(",
     "library": "var_list.r",
     "varRefreshCmd": "cat(var_dic_list()) "
    }
   },
   "types_to_exclude": [
    "module",
    "function",
    "builtin_function_or_method",
    "instance",
    "_Feature"
   ],
   "window_display": false
  }
 },
 "nbformat": 4,
 "nbformat_minor": 2
}
